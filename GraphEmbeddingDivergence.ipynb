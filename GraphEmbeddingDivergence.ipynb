{
 "cells": [
  {
   "cell_type": "markdown",
   "metadata": {},
   "source": [
    "# A Framework for Comparing Graph Embeddings\n"
   ]
  },
  {
   "cell_type": "code",
   "execution_count": null,
   "metadata": {},
   "outputs": [],
   "source": [
    "import numpy as np\n",
    "import pandas as pd\n",
    "## for plotting only:\n",
    "import igraph as ig\n",
    "import umap \n",
    "import matplotlib.pyplot as plt\n",
    "%matplotlib inline\n"
   ]
  },
  {
   "cell_type": "code",
   "execution_count": null,
   "metadata": {},
   "outputs": [],
   "source": [
    "\n",
    "## Build igraph with colours\n",
    "def buildGraph(edge_file, comm_file):\n",
    "    comm = pd.read_csv(comm_file, sep=r'\\s+', header=None)[0].tolist()\n",
    "    E = pd.read_csv(edge_file, sep=r'\\s+', header=None)\n",
    "    x = min(E.min())\n",
    "    E = np.array(E-x) ## make everything 0-based\n",
    "    n = len(comm)\n",
    "    E = np.array([x for x in E if x[0]<x[1]]) ## simplify\n",
    "    cl = ['magenta','grey','green','cyan','yellow','red','blue','tan','gold']\n",
    "    pal = ig.RainbowPalette(n=max(comm)+1)\n",
    "    v = [i for i in range(n)]\n",
    "    g = ig.Graph(vertex_attrs={\"label\":v}, edges=list(E), directed=False)\n",
    "    g['min']=x\n",
    "    g.vs[\"color\"] = [pal.get(i) for i in comm]\n",
    "    g.vs['comm'] = comm\n",
    "    return g\n",
    "\n",
    "## Read embedding from file in node2vec format\n",
    "## For visualization: use UMAP if dim > 2\n",
    "def embed2layout(fn):\n",
    "    D = pd.read_csv(fn, sep=' ', skiprows=1, header=None)\n",
    "    D = D.dropna(axis=1)\n",
    "    D = D.sort_values(by=0)\n",
    "    Y = np.array(D.iloc[:,1:])\n",
    "    if Y.shape[1]>=2:\n",
    "        Y = umap.UMAP().fit_transform(Y)\n",
    "    ly = []\n",
    "    for v in range(Y.shape[0]):\n",
    "        ly.append((Y[v][0],Y[v][1]))\n",
    "    return ly\n"
   ]
  },
  {
   "cell_type": "code",
   "execution_count": null,
   "metadata": {},
   "outputs": [],
   "source": [
    "FN = \"./Data/karate\"\n",
    "g = buildGraph(FN+'.edgelist',FN+'.community')"
   ]
  },
  {
   "cell_type": "code",
   "execution_count": null,
   "metadata": {},
   "outputs": [],
   "source": [
    "ly = g.layout_kamada_kawai()\n",
    "ig.plot(g,layout=ly,bbox=(0,0,400,300), vertex_label_size=0, vertex_size=10 )"
   ]
  },
  {
   "cell_type": "code",
   "execution_count": null,
   "metadata": {},
   "outputs": [],
   "source": [
    "ly = embed2layout(FN+'.embedding.1')\n",
    "ig.plot(g,layout=ly,bbox=(0,0,400,300), vertex_label_size=0, vertex_size=10 )"
   ]
  },
  {
   "cell_type": "code",
   "execution_count": null,
   "metadata": {},
   "outputs": [],
   "source": [
    "ly = embed2layout(FN+'.embedding.2')\n",
    "ig.plot(g,layout=ly,bbox=(0,0,400,300), vertex_label_size=0, vertex_size=10 )"
   ]
  },
  {
   "cell_type": "code",
   "execution_count": null,
   "metadata": {},
   "outputs": [],
   "source": [
    "ly = embed2layout(FN+'.embedding.3')\n",
    "ig.plot(g,layout=ly,bbox=(0,0,400,300), vertex_label_size=0, vertex_size=10 )"
   ]
  },
  {
   "cell_type": "code",
   "execution_count": null,
   "metadata": {},
   "outputs": [],
   "source": [
    "FN = \"./Data/lfr15\"\n",
    "g = buildGraph(FN+'.edgelist',FN+'.community')"
   ]
  },
  {
   "cell_type": "code",
   "execution_count": null,
   "metadata": {},
   "outputs": [],
   "source": [
    "ly = g.layout_kamada_kawai()\n",
    "ig.plot(g,layout=ly,bbox=(0,0,400,300), vertex_label_size=0, vertex_size=10 )"
   ]
  },
  {
   "cell_type": "code",
   "execution_count": null,
   "metadata": {},
   "outputs": [],
   "source": [
    "ly = embed2layout(FN+'.embedding.1')\n",
    "ig.plot(g,layout=ly,bbox=(0,0,400,300), vertex_label_size=0, vertex_size=10 )"
   ]
  },
  {
   "cell_type": "code",
   "execution_count": null,
   "metadata": {},
   "outputs": [],
   "source": [
    "ly = embed2layout(FN+'.embedding.2')\n",
    "ig.plot(g,layout=ly,bbox=(0,0,400,300), vertex_label_size=0, vertex_size=10 )"
   ]
  },
  {
   "cell_type": "code",
   "execution_count": null,
   "metadata": {},
   "outputs": [],
   "source": [
    "ly = embed2layout(FN+'.embedding.3')\n",
    "ig.plot(g,layout=ly,bbox=(0,0,400,300), vertex_label_size=0, vertex_size=10 )"
   ]
  },
  {
   "cell_type": "code",
   "execution_count": null,
   "metadata": {},
   "outputs": [],
   "source": [
    "## running the C code to compare several embeddings\n",
    "## ... make sure to compile GED.c first \n",
    "import subprocess\n",
    "FN = \"./Data/lfr15\"\n",
    "for i in range(3):\n",
    "    x = './GED -g '+FN+'.edgelist'+' -c '+FN+'.ecg'+' -e '+FN+'.embedding.'+str(i+1)\n",
    "    s = subprocess.run(x, shell=True, stdout=subprocess.PIPE)\n",
    "    print(FN+'.embedding.'+str(i+1),':',s.stdout.decode()) \n"
   ]
  }
 ],
 "metadata": {
  "kernelspec": {
   "display_name": "Python 3",
   "language": "python",
   "name": "python3"
  },
  "language_info": {
   "codemirror_mode": {
    "name": "ipython",
    "version": 3
   },
   "file_extension": ".py",
   "mimetype": "text/x-python",
   "name": "python",
   "nbconvert_exporter": "python",
   "pygments_lexer": "ipython3",
   "version": "3.7.9"
  }
 },
 "nbformat": 4,
 "nbformat_minor": 2
}
